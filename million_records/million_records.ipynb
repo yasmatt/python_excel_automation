{
 "cells": [
  {
   "cell_type": "code",
   "execution_count": 1,
   "metadata": {},
   "outputs": [],
   "source": [
    "import pandas as pd"
   ]
  },
  {
   "cell_type": "code",
   "execution_count": 6,
   "metadata": {},
   "outputs": [],
   "source": [
    "sales_data_raw = pd.read_excel('sales_data.xlsx')"
   ]
  },
  {
   "cell_type": "code",
   "execution_count": 7,
   "metadata": {},
   "outputs": [
    {
     "data": {
      "text/plain": [
       "企業名     1000\n",
       "担当名     1000\n",
       "住所      1000\n",
       "電話番号    1000\n",
       "日付      1000\n",
       "売上      1000\n",
       "dtype: int64"
      ]
     },
     "execution_count": 7,
     "metadata": {},
     "output_type": "execute_result"
    }
   ],
   "source": [
    "sales_data_raw.count()"
   ]
  },
  {
   "cell_type": "code",
   "execution_count": 8,
   "metadata": {},
   "outputs": [
    {
     "data": {
      "text/plain": [
       "Index(['企業名', '担当名', '住所', '電話番号', '日付', '売上'], dtype='object')"
      ]
     },
     "execution_count": 8,
     "metadata": {},
     "output_type": "execute_result"
    }
   ],
   "source": [
    "# header\n",
    "sales_data_raw.columns"
   ]
  },
  {
   "cell_type": "code",
   "execution_count": 9,
   "metadata": {},
   "outputs": [],
   "source": [
    "# 顧客別に売上を集計\n",
    "sales_data_by_company = sales_data_raw.groupby(['企業名']).sum()"
   ]
  },
  {
   "cell_type": "code",
   "execution_count": 10,
   "metadata": {},
   "outputs": [
    {
     "data": {
      "text/html": [
       "<div>\n",
       "<style scoped>\n",
       "    .dataframe tbody tr th:only-of-type {\n",
       "        vertical-align: middle;\n",
       "    }\n",
       "\n",
       "    .dataframe tbody tr th {\n",
       "        vertical-align: top;\n",
       "    }\n",
       "\n",
       "    .dataframe thead th {\n",
       "        text-align: right;\n",
       "    }\n",
       "</style>\n",
       "<table border=\"1\" class=\"dataframe\">\n",
       "  <thead>\n",
       "    <tr style=\"text-align: right;\">\n",
       "      <th></th>\n",
       "      <th>売上</th>\n",
       "    </tr>\n",
       "    <tr>\n",
       "      <th>企業名</th>\n",
       "      <th></th>\n",
       "    </tr>\n",
       "  </thead>\n",
       "  <tbody>\n",
       "    <tr>\n",
       "      <th>合同会社廣川保険</th>\n",
       "      <td>464371</td>\n",
       "    </tr>\n",
       "    <tr>\n",
       "      <th>合同会社村山建設</th>\n",
       "      <td>547904</td>\n",
       "    </tr>\n",
       "    <tr>\n",
       "      <th>小泉通信株式会社</th>\n",
       "      <td>656339</td>\n",
       "    </tr>\n",
       "    <tr>\n",
       "      <th>山本食品有限会社</th>\n",
       "      <td>528858</td>\n",
       "    </tr>\n",
       "    <tr>\n",
       "      <th>山田鉱業合同会社</th>\n",
       "      <td>655576</td>\n",
       "    </tr>\n",
       "    <tr>\n",
       "      <th>有限会社伊藤建設</th>\n",
       "      <td>551190</td>\n",
       "    </tr>\n",
       "    <tr>\n",
       "      <th>有限会社鈴木保険</th>\n",
       "      <td>508892</td>\n",
       "    </tr>\n",
       "    <tr>\n",
       "      <th>株式会社桐山銀行</th>\n",
       "      <td>492619</td>\n",
       "    </tr>\n",
       "    <tr>\n",
       "      <th>株式会社藤本電気</th>\n",
       "      <td>493460</td>\n",
       "    </tr>\n",
       "    <tr>\n",
       "      <th>株式会社青山ガス</th>\n",
       "      <td>540643</td>\n",
       "    </tr>\n",
       "  </tbody>\n",
       "</table>\n",
       "</div>"
      ],
      "text/plain": [
       "              売上\n",
       "企業名             \n",
       "合同会社廣川保険  464371\n",
       "合同会社村山建設  547904\n",
       "小泉通信株式会社  656339\n",
       "山本食品有限会社  528858\n",
       "山田鉱業合同会社  655576\n",
       "有限会社伊藤建設  551190\n",
       "有限会社鈴木保険  508892\n",
       "株式会社桐山銀行  492619\n",
       "株式会社藤本電気  493460\n",
       "株式会社青山ガス  540643"
      ]
     },
     "execution_count": 10,
     "metadata": {},
     "output_type": "execute_result"
    }
   ],
   "source": [
    "sales_data_by_company"
   ]
  },
  {
   "cell_type": "code",
   "execution_count": 11,
   "metadata": {},
   "outputs": [
    {
     "data": {
      "text/plain": [
       "売上    10\n",
       "dtype: int64"
      ]
     },
     "execution_count": 11,
     "metadata": {},
     "output_type": "execute_result"
    }
   ],
   "source": [
    "sales_data_by_company.count()"
   ]
  },
  {
   "cell_type": "code",
   "execution_count": 12,
   "metadata": {},
   "outputs": [],
   "source": [
    "# 顧客ｘ日付で売上を集計\n",
    "sales_data_by_company_date = sales_data_raw.groupby(['企業名', '日付']).sum()"
   ]
  },
  {
   "cell_type": "code",
   "execution_count": 13,
   "metadata": {},
   "outputs": [
    {
     "data": {
      "text/html": [
       "<div>\n",
       "<style scoped>\n",
       "    .dataframe tbody tr th:only-of-type {\n",
       "        vertical-align: middle;\n",
       "    }\n",
       "\n",
       "    .dataframe tbody tr th {\n",
       "        vertical-align: top;\n",
       "    }\n",
       "\n",
       "    .dataframe thead th {\n",
       "        text-align: right;\n",
       "    }\n",
       "</style>\n",
       "<table border=\"1\" class=\"dataframe\">\n",
       "  <thead>\n",
       "    <tr style=\"text-align: right;\">\n",
       "      <th></th>\n",
       "      <th></th>\n",
       "      <th>売上</th>\n",
       "    </tr>\n",
       "    <tr>\n",
       "      <th>企業名</th>\n",
       "      <th>日付</th>\n",
       "      <th></th>\n",
       "    </tr>\n",
       "  </thead>\n",
       "  <tbody>\n",
       "    <tr>\n",
       "      <th rowspan=\"5\" valign=\"top\">合同会社廣川保険</th>\n",
       "      <th>2019-07-23</th>\n",
       "      <td>30609</td>\n",
       "    </tr>\n",
       "    <tr>\n",
       "      <th>2019-08-02</th>\n",
       "      <td>42095</td>\n",
       "    </tr>\n",
       "    <tr>\n",
       "      <th>2019-09-15</th>\n",
       "      <td>52801</td>\n",
       "    </tr>\n",
       "    <tr>\n",
       "      <th>2019-09-16</th>\n",
       "      <td>77546</td>\n",
       "    </tr>\n",
       "    <tr>\n",
       "      <th>2020-01-11</th>\n",
       "      <td>28430</td>\n",
       "    </tr>\n",
       "    <tr>\n",
       "      <th>...</th>\n",
       "      <th>...</th>\n",
       "      <td>...</td>\n",
       "    </tr>\n",
       "    <tr>\n",
       "      <th rowspan=\"5\" valign=\"top\">株式会社青山ガス</th>\n",
       "      <th>2020-01-25</th>\n",
       "      <td>99665</td>\n",
       "    </tr>\n",
       "    <tr>\n",
       "      <th>2020-02-28</th>\n",
       "      <td>58625</td>\n",
       "    </tr>\n",
       "    <tr>\n",
       "      <th>2020-03-24</th>\n",
       "      <td>63864</td>\n",
       "    </tr>\n",
       "    <tr>\n",
       "      <th>2020-05-01</th>\n",
       "      <td>60037</td>\n",
       "    </tr>\n",
       "    <tr>\n",
       "      <th>2020-05-24</th>\n",
       "      <td>52601</td>\n",
       "    </tr>\n",
       "  </tbody>\n",
       "</table>\n",
       "<p>100 rows × 1 columns</p>\n",
       "</div>"
      ],
      "text/plain": [
       "                        売上\n",
       "企業名      日付               \n",
       "合同会社廣川保険 2019-07-23  30609\n",
       "         2019-08-02  42095\n",
       "         2019-09-15  52801\n",
       "         2019-09-16  77546\n",
       "         2020-01-11  28430\n",
       "...                    ...\n",
       "株式会社青山ガス 2020-01-25  99665\n",
       "         2020-02-28  58625\n",
       "         2020-03-24  63864\n",
       "         2020-05-01  60037\n",
       "         2020-05-24  52601\n",
       "\n",
       "[100 rows x 1 columns]"
      ]
     },
     "execution_count": 13,
     "metadata": {},
     "output_type": "execute_result"
    }
   ],
   "source": [
    "sales_data_by_company_date"
   ]
  },
  {
   "cell_type": "code",
   "execution_count": 14,
   "metadata": {},
   "outputs": [
    {
     "data": {
      "text/plain": [
       "売上    100\n",
       "dtype: int64"
      ]
     },
     "execution_count": 14,
     "metadata": {},
     "output_type": "execute_result"
    }
   ],
   "source": [
    "sales_data_by_company_date.count()"
   ]
  },
  {
   "cell_type": "code",
   "execution_count": 15,
   "metadata": {},
   "outputs": [],
   "source": [
    "# 結果を出力\n",
    "with pd.ExcelWriter('results.xlsx') as writer:  \n",
    "    sales_data_by_company.to_excel(writer,sheet_name='売上実績_顧客別')\n",
    "    sales_data_by_company_date.to_excel(writer,sheet_name='売上実績_顧客ｘ日付別')"
   ]
  },
  {
   "cell_type": "code",
   "execution_count": null,
   "metadata": {},
   "outputs": [],
   "source": []
  }
 ],
 "metadata": {
  "kernelspec": {
   "display_name": "Python 3",
   "language": "python",
   "name": "python3"
  },
  "language_info": {
   "codemirror_mode": {
    "name": "ipython",
    "version": 3
   },
   "file_extension": ".py",
   "mimetype": "text/x-python",
   "name": "python",
   "nbconvert_exporter": "python",
   "pygments_lexer": "ipython3",
   "version": "3.7.0"
  }
 },
 "nbformat": 4,
 "nbformat_minor": 4
}
