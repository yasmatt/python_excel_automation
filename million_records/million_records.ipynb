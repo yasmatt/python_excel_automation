{
 "cells": [
  {
   "cell_type": "code",
   "execution_count": 1,
   "metadata": {},
   "outputs": [],
   "source": [
    "import pandas as pd"
   ]
  },
  {
   "cell_type": "code",
   "execution_count": 2,
   "metadata": {},
   "outputs": [],
   "source": [
    "sales_data_raw = pd.read_excel('sales_data_m.xlsx')"
   ]
  },
  {
   "cell_type": "code",
   "execution_count": 4,
   "metadata": {},
   "outputs": [
    {
     "data": {
      "text/plain": [
       "企業名     1000\n",
       "担当名     1000\n",
       "住所      1000\n",
       "電話番号    1000\n",
       "日付      1000\n",
       "売上      1000\n",
       "dtype: int64"
      ]
     },
     "execution_count": 4,
     "metadata": {},
     "output_type": "execute_result"
    }
   ],
   "source": [
    "sales_data_raw.count()"
   ]
  },
  {
   "cell_type": "code",
   "execution_count": 5,
   "metadata": {},
   "outputs": [
    {
     "data": {
      "text/plain": [
       "Index(['企業名', '担当名', '住所', '電話番号', '日付', '売上'], dtype='object')"
      ]
     },
     "execution_count": 5,
     "metadata": {},
     "output_type": "execute_result"
    }
   ],
   "source": [
    "# header\n",
    "sales_data_raw.columns"
   ]
  },
  {
   "cell_type": "code",
   "execution_count": 6,
   "metadata": {},
   "outputs": [],
   "source": [
    "# 顧客別に売上を集計\n",
    "sales_data_by_company = sales_data_raw.groupby(['企業名']).sum()"
   ]
  },
  {
   "cell_type": "code",
   "execution_count": 7,
   "metadata": {},
   "outputs": [
    {
     "data": {
      "text/html": [
       "<div>\n",
       "<style scoped>\n",
       "    .dataframe tbody tr th:only-of-type {\n",
       "        vertical-align: middle;\n",
       "    }\n",
       "\n",
       "    .dataframe tbody tr th {\n",
       "        vertical-align: top;\n",
       "    }\n",
       "\n",
       "    .dataframe thead th {\n",
       "        text-align: right;\n",
       "    }\n",
       "</style>\n",
       "<table border=\"1\" class=\"dataframe\">\n",
       "  <thead>\n",
       "    <tr style=\"text-align: right;\">\n",
       "      <th></th>\n",
       "      <th>売上</th>\n",
       "    </tr>\n",
       "    <tr>\n",
       "      <th>企業名</th>\n",
       "      <th></th>\n",
       "    </tr>\n",
       "  </thead>\n",
       "  <tbody>\n",
       "    <tr>\n",
       "      <th>中島情報有限会社</th>\n",
       "      <td>658818</td>\n",
       "    </tr>\n",
       "    <tr>\n",
       "      <th>合同会社大垣電気</th>\n",
       "      <td>546819</td>\n",
       "    </tr>\n",
       "    <tr>\n",
       "      <th>吉田印刷有限会社</th>\n",
       "      <td>617199</td>\n",
       "    </tr>\n",
       "    <tr>\n",
       "      <th>有限会社井上保険</th>\n",
       "      <td>569466</td>\n",
       "    </tr>\n",
       "    <tr>\n",
       "      <th>株式会社小林ガス</th>\n",
       "      <td>470880</td>\n",
       "    </tr>\n",
       "    <tr>\n",
       "      <th>株式会社青山鉱業</th>\n",
       "      <td>482860</td>\n",
       "    </tr>\n",
       "    <tr>\n",
       "      <th>津田通信合同会社</th>\n",
       "      <td>559329</td>\n",
       "    </tr>\n",
       "    <tr>\n",
       "      <th>藤本電気合同会社</th>\n",
       "      <td>561756</td>\n",
       "    </tr>\n",
       "    <tr>\n",
       "      <th>野村建設合同会社</th>\n",
       "      <td>617630</td>\n",
       "    </tr>\n",
       "    <tr>\n",
       "      <th>高橋ガス有限会社</th>\n",
       "      <td>498603</td>\n",
       "    </tr>\n",
       "  </tbody>\n",
       "</table>\n",
       "</div>"
      ],
      "text/plain": [
       "              売上\n",
       "企業名             \n",
       "中島情報有限会社  658818\n",
       "合同会社大垣電気  546819\n",
       "吉田印刷有限会社  617199\n",
       "有限会社井上保険  569466\n",
       "株式会社小林ガス  470880\n",
       "株式会社青山鉱業  482860\n",
       "津田通信合同会社  559329\n",
       "藤本電気合同会社  561756\n",
       "野村建設合同会社  617630\n",
       "高橋ガス有限会社  498603"
      ]
     },
     "execution_count": 7,
     "metadata": {},
     "output_type": "execute_result"
    }
   ],
   "source": [
    "sales_data_by_company"
   ]
  },
  {
   "cell_type": "code",
   "execution_count": 8,
   "metadata": {},
   "outputs": [
    {
     "data": {
      "text/plain": [
       "売上    10\n",
       "dtype: int64"
      ]
     },
     "execution_count": 8,
     "metadata": {},
     "output_type": "execute_result"
    }
   ],
   "source": [
    "sales_data_by_company.count()"
   ]
  },
  {
   "cell_type": "code",
   "execution_count": 9,
   "metadata": {},
   "outputs": [],
   "source": [
    "# 顧客ｘ日付で売上を集計\n",
    "sales_data_by_company_date = sales_data_raw.groupby(['企業名', '日付']).sum()"
   ]
  },
  {
   "cell_type": "code",
   "execution_count": 10,
   "metadata": {},
   "outputs": [
    {
     "data": {
      "text/html": [
       "<div>\n",
       "<style scoped>\n",
       "    .dataframe tbody tr th:only-of-type {\n",
       "        vertical-align: middle;\n",
       "    }\n",
       "\n",
       "    .dataframe tbody tr th {\n",
       "        vertical-align: top;\n",
       "    }\n",
       "\n",
       "    .dataframe thead th {\n",
       "        text-align: right;\n",
       "    }\n",
       "</style>\n",
       "<table border=\"1\" class=\"dataframe\">\n",
       "  <thead>\n",
       "    <tr style=\"text-align: right;\">\n",
       "      <th></th>\n",
       "      <th></th>\n",
       "      <th>売上</th>\n",
       "    </tr>\n",
       "    <tr>\n",
       "      <th>企業名</th>\n",
       "      <th>日付</th>\n",
       "      <th></th>\n",
       "    </tr>\n",
       "  </thead>\n",
       "  <tbody>\n",
       "    <tr>\n",
       "      <th rowspan=\"5\" valign=\"top\">中島情報有限会社</th>\n",
       "      <th>2019-08-13</th>\n",
       "      <td>80664</td>\n",
       "    </tr>\n",
       "    <tr>\n",
       "      <th>2019-09-10</th>\n",
       "      <td>41040</td>\n",
       "    </tr>\n",
       "    <tr>\n",
       "      <th>2019-11-02</th>\n",
       "      <td>56048</td>\n",
       "    </tr>\n",
       "    <tr>\n",
       "      <th>2019-12-01</th>\n",
       "      <td>67375</td>\n",
       "    </tr>\n",
       "    <tr>\n",
       "      <th>2019-12-05</th>\n",
       "      <td>83267</td>\n",
       "    </tr>\n",
       "    <tr>\n",
       "      <th>...</th>\n",
       "      <th>...</th>\n",
       "      <td>...</td>\n",
       "    </tr>\n",
       "    <tr>\n",
       "      <th rowspan=\"5\" valign=\"top\">高橋ガス有限会社</th>\n",
       "      <th>2019-12-26</th>\n",
       "      <td>30491</td>\n",
       "    </tr>\n",
       "    <tr>\n",
       "      <th>2020-01-05</th>\n",
       "      <td>51416</td>\n",
       "    </tr>\n",
       "    <tr>\n",
       "      <th>2020-01-14</th>\n",
       "      <td>60047</td>\n",
       "    </tr>\n",
       "    <tr>\n",
       "      <th>2020-03-01</th>\n",
       "      <td>60181</td>\n",
       "    </tr>\n",
       "    <tr>\n",
       "      <th>2020-05-09</th>\n",
       "      <td>58665</td>\n",
       "    </tr>\n",
       "  </tbody>\n",
       "</table>\n",
       "<p>100 rows × 1 columns</p>\n",
       "</div>"
      ],
      "text/plain": [
       "                        売上\n",
       "企業名      日付               \n",
       "中島情報有限会社 2019-08-13  80664\n",
       "         2019-09-10  41040\n",
       "         2019-11-02  56048\n",
       "         2019-12-01  67375\n",
       "         2019-12-05  83267\n",
       "...                    ...\n",
       "高橋ガス有限会社 2019-12-26  30491\n",
       "         2020-01-05  51416\n",
       "         2020-01-14  60047\n",
       "         2020-03-01  60181\n",
       "         2020-05-09  58665\n",
       "\n",
       "[100 rows x 1 columns]"
      ]
     },
     "execution_count": 10,
     "metadata": {},
     "output_type": "execute_result"
    }
   ],
   "source": [
    "sales_data_by_company_date"
   ]
  },
  {
   "cell_type": "code",
   "execution_count": 11,
   "metadata": {},
   "outputs": [
    {
     "data": {
      "text/plain": [
       "売上    100\n",
       "dtype: int64"
      ]
     },
     "execution_count": 11,
     "metadata": {},
     "output_type": "execute_result"
    }
   ],
   "source": [
    "sales_data_by_company_date.count()"
   ]
  },
  {
   "cell_type": "code",
   "execution_count": 12,
   "metadata": {},
   "outputs": [],
   "source": [
    "# 結果を出力\n",
    "with pd.ExcelWriter('results.xlsx') as writer:  \n",
    "    sales_data_by_company.to_excel(writer,sheet_name='売上実績_顧客別')\n",
    "    sales_data_by_company_date.to_excel(writer,sheet_name='売上実績_顧客ｘ日付別')"
   ]
  },
  {
   "cell_type": "code",
   "execution_count": null,
   "metadata": {},
   "outputs": [],
   "source": [
    ""
   ]
  }
 ],
 "metadata": {
  "kernelspec": {
   "display_name": "Python 3",
   "language": "python",
   "name": "python3"
  },
  "language_info": {
   "codemirror_mode": {
    "name": "ipython",
    "version": 3.0
   },
   "file_extension": ".py",
   "mimetype": "text/x-python",
   "name": "python",
   "nbconvert_exporter": "python",
   "pygments_lexer": "ipython3",
   "version": "3.7.0"
  }
 },
 "nbformat": 4,
 "nbformat_minor": 0
}